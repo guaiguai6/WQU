{
 "cells": [
  {
   "cell_type": "markdown",
   "id": "9357cd97",
   "metadata": {},
   "source": [
    "# 1.1 Organizing tabular data in Python "
   ]
  },
  {
   "cell_type": "markdown",
   "id": "949dd31f",
   "metadata": {},
   "source": [
    "- what is observation, feature, and values \n",
    "- list, access items, perform basic calculation, use for loop to append a list to a nested list \n",
    "- same for dictionary, two variation: columwise and rowwise\n",
    "- turn tabular data to dataframe "
   ]
  },
  {
   "cell_type": "code",
   "execution_count": 2,
   "id": "51f897be",
   "metadata": {},
   "outputs": [
    {
     "data": {
      "text/plain": [
       "[115910, 128, 4, 905.546875]"
      ]
     },
     "execution_count": 2,
     "metadata": {},
     "output_type": "execute_result"
    }
   ],
   "source": [
    "# work with list \n",
    "\n",
    "house_list0 = [115910, 128, 4]\n",
    "house_list0.append(house_list0[0]/house_list0[1])\n",
    "house_list0"
   ]
  },
  {
   "cell_type": "code",
   "execution_count": 3,
   "id": "d9cf2c98",
   "metadata": {},
   "outputs": [
    {
     "data": {
      "text/plain": [
       "[[115910, 128, 4, 905.546875],\n",
       " [48718, 210, 3, 231.9904761904762],\n",
       " [28977, 58, 2, 499.6034482758621],\n",
       " [36932, 79, 3, 467.49367088607596]]"
      ]
     },
     "execution_count": 3,
     "metadata": {},
     "output_type": "execute_result"
    }
   ],
   "source": [
    "house_nested_list = [\n",
    "    [115910, 128, 4],\n",
    "    [48718, 210, 3],\n",
    "    [28977, 58, 2],\n",
    "    [36932, 79, 3]\n",
    "]\n",
    "\n",
    "for house in house_nested_list:\n",
    "    price_per_m2 = house[0]/house[1]\n",
    "    house.append(price_per_m2)\n",
    "\n",
    "house_nested_list"
   ]
  },
  {
   "cell_type": "code",
   "execution_count": 4,
   "id": "e59fa501",
   "metadata": {},
   "outputs": [
    {
     "data": {
      "text/plain": [
       "{'price_aprox_usd': 115910,\n",
       " 'surface_area': 128,\n",
       " 'rooms': 4,\n",
       " 'price_per_m2': 905.546875}"
      ]
     },
     "execution_count": 4,
     "metadata": {},
     "output_type": "execute_result"
    }
   ],
   "source": [
    "# work with dictionary \n",
    "house_dict0 = {\n",
    "    \"price_aprox_usd\": 115910, \n",
    "    \"surface_area\" : 128, \n",
    "    \"rooms\": 4\n",
    "}\n",
    "\n",
    "house_dict0[\"price_per_m2\"] = house_dict0[\"price_aprox_usd\"] / house_dict0[\"surface_area\"]\n",
    "house_dict0"
   ]
  },
  {
   "cell_type": "code",
   "execution_count": 6,
   "id": "108782cf",
   "metadata": {},
   "outputs": [
    {
     "data": {
      "text/plain": [
       "[{'price_aprox_usd': 115910, 'surface_area': 128, 'rooms': 4},\n",
       " {'price_aprox_usd': 48718, 'surface_area': 210, 'rooms': 3},\n",
       " {'price_aprox_usd': 28977, 'surface_area': 58, 'rooms': 2},\n",
       " {'price_aprox_usd': 36932, 'surface_area': 79, 'rooms': 3}]"
      ]
     },
     "execution_count": 6,
     "metadata": {},
     "output_type": "execute_result"
    }
   ],
   "source": [
    "# dict rowwise \n",
    "# this way of storage data is called JSON\n",
    "houses_rowwise = [\n",
    "    {\n",
    "    \"price_aprox_usd\": 115910, \n",
    "    \"surface_area\" : 128, \n",
    "    \"rooms\": 4\n",
    "},\n",
    "    {\n",
    "    \"price_aprox_usd\": 48718, \n",
    "    \"surface_area\" : 210, \n",
    "    \"rooms\": 3\n",
    "},\n",
    "    {\n",
    "    \"price_aprox_usd\": 28977, \n",
    "    \"surface_area\" : 58, \n",
    "    \"rooms\": 2\n",
    "},\n",
    "    {\n",
    "    \"price_aprox_usd\": 36932, \n",
    "    \"surface_area\" : 79, \n",
    "    \"rooms\": 3\n",
    "}\n",
    "]\n",
    "\n",
    "houses_rowwise"
   ]
  },
  {
   "cell_type": "code",
   "execution_count": 7,
   "id": "9643ac2c",
   "metadata": {},
   "outputs": [
    {
     "data": {
      "text/plain": [
       "[{'price_aprox_usd': 115910,\n",
       "  'surface_area': 128,\n",
       "  'rooms': 4,\n",
       "  'price_per_m2': 905.546875},\n",
       " {'price_aprox_usd': 48718,\n",
       "  'surface_area': 210,\n",
       "  'rooms': 3,\n",
       "  'price_per_m2': 231.9904761904762},\n",
       " {'price_aprox_usd': 28977,\n",
       "  'surface_area': 58,\n",
       "  'rooms': 2,\n",
       "  'price_per_m2': 499.6034482758621},\n",
       " {'price_aprox_usd': 36932,\n",
       "  'surface_area': 79,\n",
       "  'rooms': 3,\n",
       "  'price_per_m2': 467.49367088607596}]"
      ]
     },
     "execution_count": 7,
     "metadata": {},
     "output_type": "execute_result"
    }
   ],
   "source": [
    "for house in houses_rowwise:\n",
    "    house[\"price_per_m2\"] = house[\"price_aprox_usd\"] / house[\"surface_area\"]\n",
    "\n",
    "houses_rowwise"
   ]
  },
  {
   "cell_type": "code",
   "execution_count": 8,
   "id": "5211c415",
   "metadata": {},
   "outputs": [
    {
     "data": {
      "text/plain": [
       "57634.25"
      ]
     },
     "execution_count": 8,
     "metadata": {},
     "output_type": "execute_result"
    }
   ],
   "source": [
    "# calculate mean \n",
    "price = []\n",
    "for house in houses_rowwise:\n",
    "    price.append(house[\"price_aprox_usd\"])\n",
    "\n",
    "mean = sum(price) / len(price)\n",
    "mean"
   ]
  },
  {
   "cell_type": "code",
   "execution_count": 13,
   "id": "ced2478b",
   "metadata": {},
   "outputs": [
    {
     "data": {
      "text/plain": [
       "{'price_aprox_usd': [115910, 48718, 28977, 36932],\n",
       " 'surface_area': [128, 210, 58, 79],\n",
       " 'rooms': [4, 3, 2, 3]}"
      ]
     },
     "execution_count": 13,
     "metadata": {},
     "output_type": "execute_result"
    }
   ],
   "source": [
    "# dict columnwise \n",
    "houses_columnwise = {\n",
    "    \"price_aprox_usd\": [115910, 48718, 28977, 36932], \n",
    "    \"surface_area\": [128, 210, 58, 79], \n",
    "    \"rooms\": [4,3,2,3]\n",
    "}\n",
    "\n",
    "houses_columnwise"
   ]
  },
  {
   "cell_type": "code",
   "execution_count": 14,
   "id": "0e608054",
   "metadata": {},
   "outputs": [
    {
     "data": {
      "text/plain": [
       "57634.25"
      ]
     },
     "execution_count": 14,
     "metadata": {},
     "output_type": "execute_result"
    }
   ],
   "source": [
    "mean = sum(houses_columnwise[\"price_aprox_usd\"]) / len(houses_columnwise[\"price_aprox_usd\"])\n",
    "mean"
   ]
  },
  {
   "cell_type": "code",
   "execution_count": 15,
   "id": "9e5753eb",
   "metadata": {},
   "outputs": [
    {
     "data": {
      "text/plain": [
       "{'price_aprox_usd': [115910, 48718, 28977, 36932],\n",
       " 'surface_area': [128, 210, 58, 79],\n",
       " 'rooms': [4, 3, 2, 3],\n",
       " 'price_per_m2': [905.546875,\n",
       "  231.9904761904762,\n",
       "  499.6034482758621,\n",
       "  467.49367088607596]}"
      ]
     },
     "execution_count": 15,
     "metadata": {},
     "output_type": "execute_result"
    }
   ],
   "source": [
    "# add a key value pair to dict using zip \n",
    "price = houses_columnwise[\"price_aprox_usd\"]\n",
    "area = houses_columnwise[\"surface_area\"]\n",
    "\n",
    "price_per_m2 = []\n",
    "for p, a in zip(price, area): \n",
    "    price_per_m2.append(p/a)\n",
    "\n",
    "houses_columnwise[\"price_per_m2\"] = price_per_m2\n",
    "houses_columnwise"
   ]
  },
  {
   "cell_type": "code",
   "execution_count": 16,
   "id": "9d97ed72",
   "metadata": {},
   "outputs": [
    {
     "data": {
      "text/html": [
       "<div>\n",
       "<style scoped>\n",
       "    .dataframe tbody tr th:only-of-type {\n",
       "        vertical-align: middle;\n",
       "    }\n",
       "\n",
       "    .dataframe tbody tr th {\n",
       "        vertical-align: top;\n",
       "    }\n",
       "\n",
       "    .dataframe thead th {\n",
       "        text-align: right;\n",
       "    }\n",
       "</style>\n",
       "<table border=\"1\" class=\"dataframe\">\n",
       "  <thead>\n",
       "    <tr style=\"text-align: right;\">\n",
       "      <th></th>\n",
       "      <th>price_aprox_usd</th>\n",
       "      <th>surface_area</th>\n",
       "      <th>rooms</th>\n",
       "      <th>price_per_m2</th>\n",
       "    </tr>\n",
       "  </thead>\n",
       "  <tbody>\n",
       "    <tr>\n",
       "      <th>0</th>\n",
       "      <td>115910</td>\n",
       "      <td>128</td>\n",
       "      <td>4</td>\n",
       "      <td>905.546875</td>\n",
       "    </tr>\n",
       "    <tr>\n",
       "      <th>1</th>\n",
       "      <td>48718</td>\n",
       "      <td>210</td>\n",
       "      <td>3</td>\n",
       "      <td>231.990476</td>\n",
       "    </tr>\n",
       "    <tr>\n",
       "      <th>2</th>\n",
       "      <td>28977</td>\n",
       "      <td>58</td>\n",
       "      <td>2</td>\n",
       "      <td>499.603448</td>\n",
       "    </tr>\n",
       "    <tr>\n",
       "      <th>3</th>\n",
       "      <td>36932</td>\n",
       "      <td>79</td>\n",
       "      <td>3</td>\n",
       "      <td>467.493671</td>\n",
       "    </tr>\n",
       "  </tbody>\n",
       "</table>\n",
       "</div>"
      ],
      "text/plain": [
       "   price_aprox_usd  surface_area  rooms  price_per_m2\n",
       "0           115910           128      4    905.546875\n",
       "1            48718           210      3    231.990476\n",
       "2            28977            58      2    499.603448\n",
       "3            36932            79      3    467.493671"
      ]
     },
     "execution_count": 16,
     "metadata": {},
     "output_type": "execute_result"
    }
   ],
   "source": [
    "# tabular data to pd dataframe \n",
    "import pandas as pd \n",
    "\n",
    "df_houses = pd.DataFrame(houses_columnwise)\n",
    "\n",
    "df_houses"
   ]
  },
  {
   "cell_type": "markdown",
   "id": "66fef562",
   "metadata": {},
   "source": [
    "# 1.2 Preparing Mexico Data "
   ]
  },
  {
   "cell_type": "markdown",
   "id": "9a2f7da6",
   "metadata": {},
   "source": [
    "- import and export data \n",
    "- df overview \n",
    "- data cleaning \n",
    "\n",
    "import: df = pd.read_csv(\"path_to_csvfile\") \n",
    "\n",
    "export: df.to_csv(\"path_to_save_csvfile\") \n",
    "\n",
    "df overview \n",
    "- df.shape \n",
    "- df.info()\n",
    "- df.head()\n",
    "\n",
    "data cleaning \n",
    "- drop NaN value: df.dropna(inplace=True)\n",
    "- remove chars from values: df[\"column_name\"].str.replace(\"char_to_remove\", \"\", regex=False)\n",
    "- replace string with float: df[\"column_name\"].astype(float) \n",
    "- drop column: df = df.drop(\"column_name\", axis=\"columns\") \n",
    "- drop columns: df = df.drop(columns=[\"column_name1\", \"column_name2\"], inplace=True) \n",
    "- add a column from existing data: df[\"new_column\"] = df[\"existing_column\"] with calculation\n",
    "- split column by comma: df[[col1, col2]] = df[\"original_col\"].str.split(\",\", expand=True) \n",
    "- concatenate dataframe: df = pd.concat([df1, df2, df3]) "
   ]
  },
  {
   "cell_type": "markdown",
   "id": "3d246e3c",
   "metadata": {},
   "source": [
    "# 1.3 Exploratory Data Analysis"
   ]
  },
  {
   "cell_type": "markdown",
   "id": "9fdf6e1e",
   "metadata": {},
   "source": [
    "the first step of EDA is alway to look at the info of df, to see the dtyes and categories of data. Based on the different type, different plots or ways to analysis should be adepted. \n",
    "\n",
    "- Location data --> scatter_mapbox \n",
    "- categorical data --> value_counts\n",
    "- numerical data --> describe, hist (histogram), boxplot, outliers "
   ]
  },
  {
   "cell_type": "raw",
   "id": "472a2b42",
   "metadata": {},
   "source": [
    "import matplotlib.pyplot as plt \n",
    "import matplotlib.pyplot as plt \n",
    "import pandas as pd \n",
    "imort plotly.express as px \n",
    "\n",
    "# scatter mapbox\n",
    "fig = px.scatter_mapbox(\n",
    "    df,\n",
    "    lat = \"lat\", \n",
    "    lon = \"lon\", \n",
    "    center = {\"lat\":19.43, \"lon\" = -99.13}, \n",
    "    width = 600, \n",
    "    height = 600, \n",
    "    hover_data = [\"price_usd\"],\n",
    ")\n",
    "\n",
    "fig.update_layout(mapbox_style = \"open-street-map\") \n",
    "fig.show() \n",
    "\n",
    "# valuecount sample code \n",
    "df[\"state\"].value_counts().head(10)\n",
    "# show top 10 most appeared states \n",
    "\n",
    "# describe \n",
    "df[\"column_name\"].describe()\n",
    "# if want 1+ \n",
    "df[[\"col_1\", \"col_2\"]].describe() \n",
    "\n",
    "# histogram \n",
    "plt.hist(df['column_name'])\n",
    "\n",
    "# boxplot \n",
    "plt.boxplot(df['column_name'], vert=False)\n",
    "\n",
    "# label plot \n",
    "plt.xlabel(\"label_name\") \n",
    "plt.ylabel(\"label_name\") \n",
    "plt.title(\"title_name\") "
   ]
  },
  {
   "cell_type": "markdown",
   "id": "7937c012",
   "metadata": {},
   "source": [
    "# 1.4 Location or Size: what influence house prices in Mexico? "
   ]
  },
  {
   "cell_type": "markdown",
   "id": "f65b5753",
   "metadata": {},
   "source": [
    "two ways of analysis\n",
    "\n",
    "first method \n",
    "- groupby state and price, then sort meanvalue \n",
    "- plot bar chart\n",
    "\n",
    "second method \n",
    "- scatter plot, correlation, compare Mexico with individual states "
   ]
  },
  {
   "cell_type": "raw",
   "id": "bdc963e2",
   "metadata": {},
   "source": [
    "# first method \n",
    "\n",
    "mean_price_by_state = df.groupby(\"state\")[\"price_usd\"].mean().sort_values(ascending=False) \n",
    "\n",
    "mean_price_by_state.plot(\n",
    "    kind = \"bar\", \n",
    "    xlabel = \"State\", \n",
    "    ylabel = \"Mean Price [USD],\n",
    "    title = \"Mean House Price by State\"\n",
    ")\n",
    "\n",
    "# do the same for state vs. price per m2\n",
    "\n",
    "# second method \n",
    "\n",
    "plt.scatter(x=df[\"area_m2\"], y=df[\"price_usd\"]) \n",
    "plt.xlabel(\"Area [sq meters]\") \n",
    "plt.ylabel(\"Price [USD]\") \n",
    "plt.title(\"Price vs. Area\") \n",
    "\n",
    "p_correlation = df[\"area_m2\"].corr(df[\"price_usd\"]) \n",
    "\n",
    "# then slice state, repeat the same process and compare \n",
    "\n",
    "df_morelos = df[df[\"state\"] == \"Morelos\"] "
   ]
  },
  {
   "cell_type": "code",
   "execution_count": null,
   "id": "e3e84f2a",
   "metadata": {},
   "outputs": [],
   "source": []
  }
 ],
 "metadata": {
  "kernelspec": {
   "display_name": "Python 3",
   "language": "python",
   "name": "python3"
  },
  "language_info": {
   "codemirror_mode": {
    "name": "ipython",
    "version": 3
   },
   "file_extension": ".py",
   "mimetype": "text/x-python",
   "name": "python",
   "nbconvert_exporter": "python",
   "pygments_lexer": "ipython3",
   "version": "3.8.8"
  }
 },
 "nbformat": 4,
 "nbformat_minor": 5
}
